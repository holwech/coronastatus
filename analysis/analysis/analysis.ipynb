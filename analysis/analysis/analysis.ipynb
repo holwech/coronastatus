{
 "cells": [
  {
   "cell_type": "code",
   "execution_count": null,
   "metadata": {},
   "outputs": [],
   "source": [
    "import pandas as pd\n",
    "import numpy as np\n",
    "pd.set_option('display.max_row', 1000)\n",
    "pd.set_option('display.max_columns', 50)\n",
    "data = {\n",
    "    'plots': {},\n",
    "    'stats': {}\n",
    "}"
   ]
  },
  {
   "cell_type": "code",
   "execution_count": null,
   "metadata": {},
   "outputs": [],
   "source": [
    "confirmed = pd.read_csv('datasets/confirmed_transposed.csv', index_col=0)\n",
    "deaths = pd.read_csv('datasets/deaths_transposed.csv', index_col=0)\n",
    "recovered = pd.read_csv('datasets/recovered_transposed.csv', index_col=0)"
   ]
  },
  {
   "cell_type": "code",
   "execution_count": null,
   "metadata": {},
   "outputs": [],
   "source": [
    "colors = ['rgb(255,0,0)', 'rgb(0,230,0)', 'rgb(0,50,255)', 'rgb(255,150,0)', 'rgb(0,150,255)', 'rgb(150,0,255)']\n",
    "def get_color(i, limit):\n",
    "    if (i >= len(colors) or i >= limit):\n",
    "        return 'rgb(150,150,150)', False\n",
    "    return colors[i], True"
   ]
  },
  {
   "cell_type": "code",
   "execution_count": null,
   "metadata": {},
   "outputs": [],
   "source": [
    "def sort_columns_on_last_row(df):\n",
    "    sorted_indicies = (-df.loc[df.last_valid_index()]).argsort()\n",
    "    return df[df.columns[sorted_indicies]]"
   ]
  },
  {
   "cell_type": "code",
   "execution_count": null,
   "metadata": {},
   "outputs": [],
   "source": [
    "def over_threshold(df, threshold):\n",
    "    mask = (df.iloc[-1] > threshold).index[df.iloc[-1] > threshold]\n",
    "    over_threshold = df[mask]\n",
    "    return sort_columns_on_last_row(over_threshold)"
   ]
  },
  {
   "cell_type": "code",
   "execution_count": null,
   "metadata": {},
   "outputs": [],
   "source": [
    "threshold = 500\n",
    "confirmed_over_threshold = over_threshold(confirmed, threshold)"
   ]
  },
  {
   "cell_type": "code",
   "execution_count": null,
   "metadata": {},
   "outputs": [],
   "source": [
    "import plotly.graph_objects as go\n",
    "fig = go.Figure(\n",
    "    layout=go.Layout(\n",
    "        title=go.layout.Title(text=f'Countries with over {threshold} confirmed cases due to COVID-19'),\n",
    "        plot_bgcolor='rgb(255,255,255)',\n",
    "        yaxis=go.layout.YAxis(\n",
    "            showgrid=True,\n",
    "            automargin=True,\n",
    "            gridwidth=1,\n",
    "            gridcolor='rgb(200,200,200)'\n",
    "        ),\n",
    "        xaxis=go.layout.XAxis(\n",
    "            showgrid=True,\n",
    "            automargin=True,\n",
    "            gridwidth=1,\n",
    "            gridcolor='rgb(200,200,200)',\n",
    "            dtick=4\n",
    "        ),\n",
    "        legend_orientation=\"h\",\n",
    "    )\n",
    ")\n",
    "\n",
    "for i, column in enumerate(confirmed_over_threshold):\n",
    "    color, _ = get_color(i, 6)\n",
    "    fig.add_trace(go.Scatter(\n",
    "        x=confirmed_over_threshold[column].index, \n",
    "        y=confirmed_over_threshold[column].values,\n",
    "        name=column,\n",
    "        marker_color=color,\n",
    "        line=dict(width=1)\n",
    "    ))\n",
    "fig.show()\n",
    "data['plots']['figure_1'] = fig.to_json()"
   ]
  },
  {
   "cell_type": "code",
   "execution_count": null,
   "metadata": {},
   "outputs": [],
   "source": [
    "def get_from_first_occurrence(df, country, above_value):\n",
    "    above = df[country][df[country] > above_value]\n",
    "    return np.arange(0, len(above)), above.values"
   ]
  },
  {
   "cell_type": "code",
   "execution_count": null,
   "metadata": {},
   "outputs": [],
   "source": [
    "threshold = 5\n",
    "deaths_over_threshold = over_threshold(deaths, threshold)\n",
    "deaths_china = deaths_over_threshold['China']\n",
    "deaths_over_threshold = deaths_over_threshold.drop(['China'], axis=1)\n",
    "\n",
    "fig = go.Figure(\n",
    "    layout=go.Layout(\n",
    "        title=go.layout.Title(text=f'Countries with over {threshold} deaths, aligned with second registered death'),\n",
    "        plot_bgcolor='rgb(255,255,255)',\n",
    "        yaxis=go.layout.YAxis(\n",
    "            type='log', showgrid=True, gridwidth=1, gridcolor='rgb(200,200,200)'\n",
    "        ),\n",
    "        xaxis=go.layout.XAxis(showgrid=True, gridwidth=1, gridcolor='rgb(200,200,200)', dtick=4),\n",
    "    )\n",
    ")\n",
    "\n",
    "\n",
    "fig.update_layout(\n",
    "    updatemenus=[\n",
    "        dict(\n",
    "            type=\"buttons\",\n",
    "            direction='left',\n",
    "            buttons=[\n",
    "                dict(\n",
    "                    label=\"Logarithmic\",\n",
    "                    method=\"relayout\",\n",
    "                    args=[\"yaxis.type\", 'log']\n",
    "                ),\n",
    "                dict(\n",
    "                    label=\"Linear\",\n",
    "                    method=\"relayout\",\n",
    "                    args=[\"yaxis.type\", 'lin']\n",
    "                ),\n",
    "            ],\n",
    "            pad={\"r\": 0, \"t\": 0},\n",
    "            showactive=True,\n",
    "            x=0,\n",
    "            xanchor=\"left\",\n",
    "            y=-0.1,\n",
    "            yanchor=\"top\"\n",
    "        )\n",
    "    ]\n",
    ")\n",
    "\n",
    "max_count = 0\n",
    "for i, column in enumerate(deaths_over_threshold):\n",
    "    x, y = get_from_first_occurrence(deaths_over_threshold, column, 1)\n",
    "    if len(x) > max_count:\n",
    "        max_count = len(x)\n",
    "    color, show = get_color(i, 6)\n",
    "    fig.add_trace(go.Scatter(\n",
    "        x=x, \n",
    "        y=y,\n",
    "        name=column,\n",
    "        mode='lines',\n",
    "        marker_color=color,\n",
    "        line=dict(width=1, dash='solid' if show else 'dash'),\n",
    "        visible=True if show else 'legendonly'\n",
    "    ))\n",
    "\n",
    "fig.add_trace(go.Scatter(\n",
    "    x=np.arange(0, max_count), \n",
    "    y=np.array([2, 2, 4, 7, 11] + deaths_china.values.tolist())[:max_count],\n",
    "    name='China',\n",
    "    mode='lines',\n",
    "    marker_color='rgb(255,0,150)',\n",
    "    line=dict(width=1)\n",
    "))\n",
    "fig.show()\n",
    "data['plots']['figure_2'] = fig.to_json()"
   ]
  },
  {
   "cell_type": "code",
   "execution_count": null,
   "metadata": {},
   "outputs": [],
   "source": [
    "over_5_deaths = over_threshold(deaths, 5)\n",
    "change = over_5_deaths.iloc[-1] - over_5_deaths.iloc[-2]"
   ]
  },
  {
   "cell_type": "code",
   "execution_count": null,
   "metadata": {},
   "outputs": [],
   "source": [
    "data['stats']['change_deaths'] = change.to_json()"
   ]
  },
  {
   "cell_type": "code",
   "execution_count": null,
   "metadata": {},
   "outputs": [],
   "source": [
    "data['stats']['num_countries_over_5_deaths'] = change.to_json()"
   ]
  },
  {
   "cell_type": "code",
   "execution_count": null,
   "metadata": {},
   "outputs": [],
   "source": [
    "import json\n",
    "with open('../../frontend/src/data/data.json', 'w') as f:\n",
    "    json.dump(data, f)"
   ]
  },
  {
   "cell_type": "code",
   "execution_count": null,
   "metadata": {},
   "outputs": [],
   "source": []
  }
 ],
 "metadata": {
  "kernelspec": {
   "display_name": "Python 3",
   "language": "python",
   "name": "python3"
  },
  "language_info": {
   "codemirror_mode": {
    "name": "ipython",
    "version": 3
   },
   "file_extension": ".py",
   "mimetype": "text/x-python",
   "name": "python",
   "nbconvert_exporter": "python",
   "pygments_lexer": "ipython3",
   "version": "3.8.1-final"
  }
 },
 "nbformat": 4,
 "nbformat_minor": 4
}